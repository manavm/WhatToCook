{
 "cells": [
  {
   "cell_type": "markdown",
   "metadata": {},
   "source": [
    "#### **Using the food2fork API **\n",
    "\n",
    "Extracting recipes and ingredients using food2fork API. \n"
   ]
  },
  {
   "cell_type": "code",
   "execution_count": 36,
   "metadata": {
    "collapsed": false
   },
   "outputs": [
    {
     "name": "stdout",
     "output_type": "stream",
     "text": [
      "{u'count': 30,\n",
      " u'recipes': [{u'f2f_url': u'http://food2fork.com/view/47024',\n",
      "               u'image_url': u'http://static.food2fork.com/icedcoffee5766.jpg',\n",
      "               u'publisher': u'The Pioneer Woman',\n",
      "               u'publisher_url': u'http://thepioneerwoman.com',\n",
      "               u'recipe_id': u'47024',\n",
      "               u'social_rank': 100.0,\n",
      "               u'source_url': u'http://thepioneerwoman.com/cooking/2011/06/perfect-iced-coffee/',\n",
      "               u'title': u'Perfect Iced Coffee'},\n",
      "              {u'f2f_url': u'http://food2fork.com/view/35382',\n",
      "               u'image_url': u'http://static.food2fork.com/Jalapeno2BPopper2BGrilled2BCheese2BSandwich2B12B500fd186186.jpg',\n",
      "               u'publisher': u'Closet Cooking',\n",
      "               u'publisher_url': u'http://closetcooking.com',\n",
      "               u'recipe_id': u'35382',\n",
      "               u'social_rank': 100.0,\n",
      "               u'source_url': u'http://www.closetcooking.com/2011/04/jalapeno-popper-grilled-cheese-sandwich.html',\n",
      "               u'title': u'Jalapeno Popper Grilled Cheese Sandwich'},\n",
      "              {u'f2f_url': u'http://food2fork.com/view/47319',\n",
      "               u'image_url': u'http://static.food2fork.com/CrashHotPotatoes5736.jpg',\n",
      "               u'publisher': u'The Pioneer Woman',\n",
      "               u'publisher_url': u'http://thepioneerwoman.com',\n",
      "               u'recipe_id': u'47319',\n",
      "               u'social_rank': 100.0,\n",
      "               u'source_url': u'http://thepioneerwoman.com/cooking/2008/06/crash-hot-potatoes/',\n",
      "               u'title': u'Crash Hot Potatoes'},\n",
      "              {u'f2f_url': u'http://food2fork.com/view/54384',\n",
      "               u'image_url': u'http://static.food2fork.com/avocadomacandcheesedc99.jpg',\n",
      "               u'publisher': u'Two Peas and Their Pod',\n",
      "               u'publisher_url': u'http://www.twopeasandtheirpod.com',\n",
      "               u'recipe_id': u'54384',\n",
      "               u'social_rank': 100.0,\n",
      "               u'source_url': u'http://www.twopeasandtheirpod.com/stovetop-avocado-mac-and-cheese/',\n",
      "               u'title': u'Stovetop Avocado Mac and Cheese'},\n",
      "              {u'f2f_url': u'http://food2fork.com/view/35171',\n",
      "               u'image_url': u'http://static.food2fork.com/Buffalo2BChicken2BGrilled2BCheese2BSandwich2B5002B4983f2702fe4.jpg',\n",
      "               u'publisher': u'Closet Cooking',\n",
      "               u'publisher_url': u'http://closetcooking.com',\n",
      "               u'recipe_id': u'35171',\n",
      "               u'social_rank': 100.0,\n",
      "               u'source_url': u'http://www.closetcooking.com/2011/08/buffalo-chicken-grilled-cheese-sandwich.html',\n",
      "               u'title': u'Buffalo Chicken Grilled Cheese Sandwich'},\n",
      "              {u'f2f_url': u'http://food2fork.com/view/d9a5e8',\n",
      "               u'image_url': u'http://static.food2fork.com/333323997_04bd8d6c53da11.jpg',\n",
      "               u'publisher': u'The Pioneer Woman',\n",
      "               u'publisher_url': u'http://thepioneerwoman.com',\n",
      "               u'recipe_id': u'd9a5e8',\n",
      "               u'social_rank': 100.0,\n",
      "               u'source_url': u'http://thepioneerwoman.com/cooking/2007/06/cinammon_rolls_/',\n",
      "               u'title': u'Cinnamon Rolls'},\n",
      "              {u'f2f_url': u'http://food2fork.com/view/47746',\n",
      "               u'image_url': u'http://static.food2fork.com/best_pizza_dough_recipe1b20.jpg',\n",
      "               u'publisher': u'101 Cookbooks',\n",
      "               u'publisher_url': u'http://www.101cookbooks.com',\n",
      "               u'recipe_id': u'47746',\n",
      "               u'social_rank': 100.0,\n",
      "               u'source_url': u'http://www.101cookbooks.com/archives/001199.html',\n",
      "               u'title': u'Best Pizza Dough Ever'},\n",
      "              {u'f2f_url': u'http://food2fork.com/view/47899',\n",
      "               u'image_url': u'http://static.food2fork.com/magic_sauce_recipeece9.jpg',\n",
      "               u'publisher': u'101 Cookbooks',\n",
      "               u'publisher_url': u'http://www.101cookbooks.com',\n",
      "               u'recipe_id': u'47899',\n",
      "               u'social_rank': 100.0,\n",
      "               u'source_url': u'http://www.101cookbooks.com/archives/magic-sauce-recipe.html',\n",
      "               u'title': u'Magic Sauce'},\n",
      "              {u'f2f_url': u'http://food2fork.com/view/47042',\n",
      "               u'image_url': u'http://static.food2fork.com/5551711173_dc42f7fc4b_zbd8a.jpg',\n",
      "               u'publisher': u'The Pioneer Woman',\n",
      "               u'publisher_url': u'http://thepioneerwoman.com',\n",
      "               u'recipe_id': u'47042',\n",
      "               u'social_rank': 100.0,\n",
      "               u'source_url': u'http://thepioneerwoman.com/cooking/2011/03/spicy-dr-pepper-shredded-pork/',\n",
      "               u'title': u'Spicy Dr. Pepper Shredded Pork'},\n",
      "              {u'f2f_url': u'http://food2fork.com/view/713134',\n",
      "               u'image_url': u'http://static.food2fork.com/ParmesanRoastedPotatoes11985a.jpg',\n",
      "               u'publisher': u'Whats Gaby Cooking',\n",
      "               u'publisher_url': u'http://whatsgabycooking.com',\n",
      "               u'recipe_id': u'713134',\n",
      "               u'social_rank': 100.0,\n",
      "               u'source_url': u'http://whatsgabycooking.com/parmesan-roasted-potatoes/',\n",
      "               u'title': u'Parmesan Roasted Potatoes'},\n",
      "              {u'f2f_url': u'http://food2fork.com/view/35120',\n",
      "               u'image_url': u'http://static.food2fork.com/Bacon2BWrapped2BJalapeno2BPopper2BStuffed2BChicken2B5002B5909939b0e65.jpg',\n",
      "               u'publisher': u'Closet Cooking',\n",
      "               u'publisher_url': u'http://closetcooking.com',\n",
      "               u'recipe_id': u'35120',\n",
      "               u'social_rank': 100.0,\n",
      "               u'source_url': u'http://www.closetcooking.com/2012/11/bacon-wrapped-jalapeno-popper-stuffed.html',\n",
      "               u'title': u'Bacon Wrapped Jalapeno Popper Stuffed Chicken'},\n",
      "              {u'f2f_url': u'http://food2fork.com/view/035865',\n",
      "               u'image_url': u'http://static.food2fork.com/BlackMagicCakeSlice1of18c68.jpg',\n",
      "               u'publisher': u'My Baking Addiction',\n",
      "               u'publisher_url': u'http://www.mybakingaddiction.com',\n",
      "               u'recipe_id': u'035865',\n",
      "               u'social_rank': 100.0,\n",
      "               u'source_url': u'http://www.mybakingaddiction.com/the-best-chocolate-cake-recipe/',\n",
      "               u'title': u'The Best Chocolate Cake'},\n",
      "              {u'f2f_url': u'http://food2fork.com/view/35368',\n",
      "               u'image_url': u'http://static.food2fork.com/HotSpinachandArtichokeDip5007579cdf5.jpg',\n",
      "               u'publisher': u'Closet Cooking',\n",
      "               u'publisher_url': u'http://closetcooking.com',\n",
      "               u'recipe_id': u'35368',\n",
      "               u'social_rank': 100.0,\n",
      "               u'source_url': u'http://www.closetcooking.com/2008/11/hot-spinach-and-artichoke-dip.html',\n",
      "               u'title': u'Hot Spinach and Artichoke Dip'},\n",
      "              {u'f2f_url': u'http://food2fork.com/view/54400',\n",
      "               u'image_url': u'http://static.food2fork.com/smashedchickpeaavocadosaladsandwich29c5b.jpg',\n",
      "               u'publisher': u'Two Peas and Their Pod',\n",
      "               u'publisher_url': u'http://www.twopeasandtheirpod.com',\n",
      "               u'recipe_id': u'54400',\n",
      "               u'social_rank': 100.0,\n",
      "               u'source_url': u'http://www.twopeasandtheirpod.com/smashed-chickpea-avocado-salad-sandwich/',\n",
      "               u'title': u'Smashed Chickpea & Avocado Salad Sandwich'},\n",
      "              {u'f2f_url': u'http://food2fork.com/view/47166',\n",
      "               u'image_url': u'http://static.food2fork.com/4307514771_c089bbd71017f42.jpg',\n",
      "               u'publisher': u'The Pioneer Woman',\n",
      "               u'publisher_url': u'http://thepioneerwoman.com',\n",
      "               u'recipe_id': u'47166',\n",
      "               u'social_rank': 100.0,\n",
      "               u'source_url': u'http://thepioneerwoman.com/cooking/2010/01/restaurant-style-salsa/',\n",
      "               u'title': u'Restaurant Style Salsa'},\n",
      "              {u'f2f_url': u'http://food2fork.com/view/8f3e73',\n",
      "               u'image_url': u'http://static.food2fork.com/387114468_aafd1be3404a2f.jpg',\n",
      "               u'publisher': u'The Pioneer Woman',\n",
      "               u'publisher_url': u'http://thepioneerwoman.com',\n",
      "               u'recipe_id': u'8f3e73',\n",
      "               u'social_rank': 100.0,\n",
      "               u'source_url': u'http://thepioneerwoman.com/cooking/2007/06/the_best_lasagn/',\n",
      "               u'title': u'The Best Lasagna Ever'},\n",
      "              {u'f2f_url': u'http://food2fork.com/view/e7fdb2',\n",
      "               u'image_url': u'http://static.food2fork.com/MacandCheese1122b.jpg',\n",
      "               u'publisher': u'My Baking Addiction',\n",
      "               u'publisher_url': u'http://www.mybakingaddiction.com',\n",
      "               u'recipe_id': u'e7fdb2',\n",
      "               u'social_rank': 100.0,\n",
      "               u'source_url': u'http://www.mybakingaddiction.com/mac-and-cheese-roasted-chicken-and-goat-cheese/',\n",
      "               u'title': u'Mac and Cheese with Roasted Chicken, Goat Cheese, and Rosemary'},\n",
      "              {u'f2f_url': u'http://food2fork.com/view/35354',\n",
      "               u'image_url': u'http://static.food2fork.com/Guinness2BChocolate2BCheesecake2B12B5002af4b6b4.jpg',\n",
      "               u'publisher': u'Closet Cooking',\n",
      "               u'publisher_url': u'http://closetcooking.com',\n",
      "               u'recipe_id': u'35354',\n",
      "               u'social_rank': 100.0,\n",
      "               u'source_url': u'http://www.closetcooking.com/2011/03/guinness-chocolate-cheesecake.html',\n",
      "               u'title': u'Guinness Chocolate Cheesecake'},\n",
      "              {u'f2f_url': u'http://food2fork.com/view/35760',\n",
      "               u'image_url': u'http://static.food2fork.com/banana_bread300x2000a14c8c5.jpeg',\n",
      "               u'publisher': u'Simply Recipes',\n",
      "               u'publisher_url': u'http://simplyrecipes.com',\n",
      "               u'recipe_id': u'35760',\n",
      "               u'social_rank': 100.0,\n",
      "               u'source_url': u'http://www.simplyrecipes.com/recipes/banana_bread/',\n",
      "               u'title': u'Banana Bread'},\n",
      "              {u'f2f_url': u'http://food2fork.com/view/32478',\n",
      "               u'image_url': u'http://static.food2fork.com/9956913c10.jpg',\n",
      "               u'publisher': u'All Recipes',\n",
      "               u'publisher_url': u'http://allrecipes.com',\n",
      "               u'recipe_id': u'32478',\n",
      "               u'social_rank': 100.0,\n",
      "               u'source_url': u'http://allrecipes.com/Recipe/The-Best-Rolled-Sugar-Cookies/Detail.aspx',\n",
      "               u'title': u'The Best Rolled Sugar Cookies'},\n",
      "              {u'f2f_url': u'http://food2fork.com/view/54427',\n",
      "               u'image_url': u'http://static.food2fork.com/GuacamoleGrilledCheese6019.jpg',\n",
      "               u'publisher': u'Two Peas and Their Pod',\n",
      "               u'publisher_url': u'http://www.twopeasandtheirpod.com',\n",
      "               u'recipe_id': u'54427',\n",
      "               u'social_rank': 100.0,\n",
      "               u'source_url': u'http://www.twopeasandtheirpod.com/guacamole-grilled-cheese-sandwich/',\n",
      "               u'title': u'Guacamole Grilled Cheese Sandwich'},\n",
      "              {u'f2f_url': u'http://food2fork.com/view/54489',\n",
      "               u'image_url': u'http://static.food2fork.com/bananapeanutbuttericecream5c16d.jpg',\n",
      "               u'publisher': u'Two Peas and Their Pod',\n",
      "               u'publisher_url': u'http://www.twopeasandtheirpod.com',\n",
      "               u'recipe_id': u'54489',\n",
      "               u'social_rank': 100.0,\n",
      "               u'source_url': u'http://www.twopeasandtheirpod.com/two-ingredient-banana-peanut-butter-ice-cream/',\n",
      "               u'title': u'Two-Ingredient Banana Peanut Butter Ice Cream'},\n",
      "              {u'f2f_url': u'http://food2fork.com/view/36259',\n",
      "               u'image_url': u'http://static.food2fork.com/shepherdspie300x2003d240a98.jpg',\n",
      "               u'publisher': u'Simply Recipes',\n",
      "               u'publisher_url': u'http://simplyrecipes.com',\n",
      "               u'recipe_id': u'36259',\n",
      "               u'social_rank': 100.0,\n",
      "               u'source_url': u'http://www.simplyrecipes.com/recipes/easy_shepherds_pie/',\n",
      "               u'title': u'Easy Shepherd&#8217;s Pie'},\n",
      "              {u'f2f_url': u'http://food2fork.com/view/35169',\n",
      "               u'image_url': u'http://static.food2fork.com/Buffalo2BChicken2BChowder2B5002B0075c131caa8.jpg',\n",
      "               u'publisher': u'Closet Cooking',\n",
      "               u'publisher_url': u'http://closetcooking.com',\n",
      "               u'recipe_id': u'35169',\n",
      "               u'social_rank': 100.0,\n",
      "               u'source_url': u'http://www.closetcooking.com/2011/11/buffalo-chicken-chowder.html',\n",
      "               u'title': u'Buffalo Chicken Chowder'},\n",
      "              {u'f2f_url': u'http://food2fork.com/view/3620',\n",
      "               u'image_url': u'http://static.food2fork.com/720553ee26.jpg',\n",
      "               u'publisher': u'All Recipes',\n",
      "               u'publisher_url': u'http://allrecipes.com',\n",
      "               u'recipe_id': u'3620',\n",
      "               u'social_rank': 100.0,\n",
      "               u'source_url': u'http://allrecipes.com/Recipe/Best-Brownies/Detail.aspx',\n",
      "               u'title': u'Best Brownies'},\n",
      "              {u'f2f_url': u'http://food2fork.com/view/29159',\n",
      "               u'image_url': u'http://static.food2fork.com/19321150c4.jpg',\n",
      "               u'publisher': u'All Recipes',\n",
      "               u'publisher_url': u'http://allrecipes.com',\n",
      "               u'recipe_id': u'29159',\n",
      "               u'social_rank': 100.0,\n",
      "               u'source_url': u'http://allrecipes.com/Recipe/Slow-Cooker-Chicken-Tortilla-Soup/Detail.aspx',\n",
      "               u'title': u'Slow Cooker Chicken Tortilla Soup'},\n",
      "              {u'f2f_url': u'http://food2fork.com/view/2803',\n",
      "               u'image_url': u'http://static.food2fork.com/124030cedd.jpg',\n",
      "               u'publisher': u'All Recipes',\n",
      "               u'publisher_url': u'http://allrecipes.com',\n",
      "               u'recipe_id': u'2803',\n",
      "               u'social_rank': 100.0,\n",
      "               u'source_url': u'http://allrecipes.com/Recipe/Banana-Crumb-Muffins/Detail.aspx',\n",
      "               u'title': u'Banana Crumb Muffins'},\n",
      "              {u'f2f_url': u'http://food2fork.com/view/2734',\n",
      "               u'image_url': u'http://static.food2fork.com/254186ea50.jpg',\n",
      "               u'publisher': u'All Recipes',\n",
      "               u'publisher_url': u'http://allrecipes.com',\n",
      "               u'recipe_id': u'2734',\n",
      "               u'social_rank': 100.0,\n",
      "               u'source_url': u'http://allrecipes.com/Recipe/Banana-Banana-Bread/Detail.aspx',\n",
      "               u'title': u'Banana Banana Bread'},\n",
      "              {u'f2f_url': u'http://food2fork.com/view/47692',\n",
      "               u'image_url': u'http://static.food2fork.com/healthy_cookies4ee3.jpg',\n",
      "               u'publisher': u'101 Cookbooks',\n",
      "               u'publisher_url': u'http://www.101cookbooks.com',\n",
      "               u'recipe_id': u'47692',\n",
      "               u'social_rank': 100.0,\n",
      "               u'source_url': u'http://www.101cookbooks.com/archives/nikkis-healthy-cookies-recipe.html',\n",
      "               u'title': u'Nikki'},\n",
      "              {u'f2f_url': u'http://food2fork.com/view/34889',\n",
      "               u'image_url': u'http://static.food2fork.com/4515542dbb.jpg',\n",
      "               u'publisher': u'All Recipes',\n",
      "               u'publisher_url': u'http://allrecipes.com',\n",
      "               u'recipe_id': u'34889',\n",
      "               u'social_rank': 100.0,\n",
      "               u'source_url': u'http://allrecipes.com/Recipe/Zesty-Slow-Cooker-Chicken-Barbecue/Detail.aspx',\n",
      "               u'title': u'Zesty Slow Cooker Chicken Barbeque'}]}\n"
     ]
    }
   ],
   "source": [
    "from urllib2 import Request, urlopen, URLError\n",
    "import json\n",
    "from pprint import pprint\n",
    "\n",
    "url = 'http://food2fork.com/api/search?key=4f27690c300fe5665a8b1d1962be1b76'\n",
    "request = Request(url)\n",
    "API_key = \"4f27690c300fe5665a8b1d1962be1b76\"\n",
    "try:\n",
    "    response = urlopen(request)\n",
    "    recipes = response.read()\n",
    "    recipes_json = json.loads(recipes)\n",
    "    recipe_dict = json.load(urlopen(url))\n",
    "    pprint(recipe_dict)\n",
    "except URLError, e:\n",
    "    print 'No kittez. Got an error code:', e\n",
    "\n",
    "    "
   ]
  },
  {
   "cell_type": "code",
   "execution_count": 34,
   "metadata": {
    "collapsed": false
   },
   "outputs": [
    {
     "name": "stdout",
     "output_type": "stream",
     "text": [
      "{u'recipe': {u'f2f_url': u'http://food2fork.com/view/35171',\n",
      "             u'image_url': u'http://static.food2fork.com/Buffalo2BChicken2BGrilled2BCheese2BSandwich2B5002B4983f2702fe4.jpg',\n",
      "             u'ingredients': [u'1/4 cup cooked shredded chicken, warm',\n",
      "                              u'1 tablespoon hot sauce',\n",
      "                              u'1/2 tablespoon mayo (optional)',\n",
      "                              u'1 tablespoon carrot, grated',\n",
      "                              u'1 tablespoon celery, sliced',\n",
      "                              u'1 tablespoon green or red onion, sliced or diced',\n",
      "                              u'1 tablespoon blue cheese, room temperature, crumbled',\n",
      "                              u'1/2 cup cheddar cheese, room temperature, grated',\n",
      "                              u'2 slices bread',\n",
      "                              u'1 tablespoon butter, room temperature\\n'],\n",
      "             u'publisher': u'Closet Cooking',\n",
      "             u'publisher_url': u'http://closetcooking.com',\n",
      "             u'recipe_id': u'35171',\n",
      "             u'social_rank': 100.0,\n",
      "             u'source_url': u'http://www.closetcooking.com/2011/08/buffalo-chicken-grilled-cheese-sandwich.html',\n",
      "             u'title': u'Buffalo Chicken Grilled Cheese Sandwich'}}\n"
     ]
    }
   ],
   "source": [
    "url = 'http://food2fork.com/api/get?key=4f27690c300fe5665a8b1d1962be1b76&rId=35171'\n",
    "\n",
    "recipe_dict = json.load(urlopen(url))\n",
    "pprint(recipe_dict)"
   ]
  },
  {
   "cell_type": "code",
   "execution_count": 5,
   "metadata": {
    "collapsed": false
   },
   "outputs": [],
   "source": [
    "import pymongo\n",
    "\n",
    "from pymongo import MongoClient\n",
    "client = MongoClient()\n",
    "client = MongoClient('localhost', 27017)\n",
    "db = client.test_database"
   ]
  },
  {
   "cell_type": "code",
   "execution_count": 6,
   "metadata": {
    "collapsed": false
   },
   "outputs": [
    {
     "ename": "KeyError",
     "evalue": "'recipes'",
     "output_type": "error",
     "traceback": [
      "\u001b[0;31m---------------------------------------------------------------------------\u001b[0m",
      "\u001b[0;31mKeyError\u001b[0m                                  Traceback (most recent call last)",
      "\u001b[0;32m<ipython-input-6-149542a943a8>\u001b[0m in \u001b[0;36m<module>\u001b[0;34m()\u001b[0m\n\u001b[1;32m      1\u001b[0m \u001b[0mrecipes\u001b[0m \u001b[0;34m=\u001b[0m \u001b[0mdb\u001b[0m\u001b[0;34m.\u001b[0m\u001b[0mrecipes\u001b[0m\u001b[0;34m\u001b[0m\u001b[0m\n\u001b[1;32m      2\u001b[0m \u001b[0;34m\u001b[0m\u001b[0m\n\u001b[0;32m----> 3\u001b[0;31m \u001b[0mrecipe_id\u001b[0m \u001b[0;34m=\u001b[0m \u001b[0mrecipes\u001b[0m\u001b[0;34m.\u001b[0m\u001b[0minsert_many\u001b[0m\u001b[0;34m(\u001b[0m\u001b[0mrecipe_dict\u001b[0m\u001b[0;34m[\u001b[0m\u001b[0;34m\"recipes\"\u001b[0m\u001b[0;34m]\u001b[0m\u001b[0;34m)\u001b[0m\u001b[0;34m\u001b[0m\u001b[0m\n\u001b[0m",
      "\u001b[0;31mKeyError\u001b[0m: 'recipes'"
     ]
    }
   ],
   "source": [
    "recipes = db.recipes\n",
    "\n",
    "recipe_id = recipes.insert_many(recipe_dict[\"recipes\"])"
   ]
  },
  {
   "cell_type": "code",
   "execution_count": null,
   "metadata": {
    "collapsed": false
   },
   "outputs": [],
   "source": [
    "recipe_id.inserted_ids"
   ]
  },
  {
   "cell_type": "code",
   "execution_count": null,
   "metadata": {
    "collapsed": false
   },
   "outputs": [],
   "source": [
    "for recipe in recipes.find()[:3]:\n",
    "    print recipe"
   ]
  },
  {
   "cell_type": "code",
   "execution_count": null,
   "metadata": {
    "collapsed": false
   },
   "outputs": [],
   "source": [
    "db.recipes.find_one()"
   ]
  },
  {
   "cell_type": "code",
   "execution_count": 35,
   "metadata": {
    "collapsed": false
   },
   "outputs": [
    {
     "name": "stdout",
     "output_type": "stream",
     "text": [
      "{u'recipe': {u'publisher': u'Closet Cooking', u'ingredients': [u'1/4 cup cooked shredded chicken, warm', u'1 tablespoon hot sauce', u'1/2 tablespoon mayo (optional)', u'1 tablespoon carrot, grated', u'1 tablespoon celery, sliced', u'1 tablespoon green or red onion, sliced or diced', u'1 tablespoon blue cheese, room temperature, crumbled', u'1/2 cup cheddar cheese, room temperature, grated', u'2 slices bread', u'1 tablespoon butter, room temperature\\n'], u'f2f_url': u'http://food2fork.com/view/35171', u'source_url': u'http://www.closetcooking.com/2011/08/buffalo-chicken-grilled-cheese-sandwich.html', u'recipe_id': u'35171', u'image_url': u'http://static.food2fork.com/Buffalo2BChicken2BGrilled2BCheese2BSandwich2B5002B4983f2702fe4.jpg', u'social_rank': 100.0, u'publisher_url': u'http://closetcooking.com', u'title': u'Buffalo Chicken Grilled Cheese Sandwich'}}\n"
     ]
    }
   ],
   "source": [
    "print recipe_dict"
   ]
  },
  {
   "cell_type": "markdown",
   "metadata": {},
   "source": [
    "#### **Uploading Data to Parse**"
   ]
  },
  {
   "cell_type": "code",
   "execution_count": 23,
   "metadata": {
    "collapsed": false
   },
   "outputs": [],
   "source": [
    "import json,httplib\n",
    "\n"
   ]
  },
  {
   "cell_type": "code",
   "execution_count": 39,
   "metadata": {
    "collapsed": false
   },
   "outputs": [
    {
     "name": "stdout",
     "output_type": "stream",
     "text": [
      "{u'publisher': u'The Pioneer Woman', u'title': u'Perfect Iced Coffee', u'f2f_url': u'http://food2fork.com/view/47024', u'source_url': u'http://thepioneerwoman.com/cooking/2011/06/perfect-iced-coffee/', u'recipe_id': u'47024', u'image_url': u'http://static.food2fork.com/icedcoffee5766.jpg', u'social_rank': 100.0, u'publisher_url': u'http://thepioneerwoman.com'}\n",
      "{u'publisher': u'Closet Cooking', u'title': u'Jalapeno Popper Grilled Cheese Sandwich', u'f2f_url': u'http://food2fork.com/view/35382', u'source_url': u'http://www.closetcooking.com/2011/04/jalapeno-popper-grilled-cheese-sandwich.html', u'recipe_id': u'35382', u'image_url': u'http://static.food2fork.com/Jalapeno2BPopper2BGrilled2BCheese2BSandwich2B12B500fd186186.jpg', u'social_rank': 100.0, u'publisher_url': u'http://closetcooking.com'}\n",
      "{u'publisher': u'The Pioneer Woman', u'title': u'Crash Hot Potatoes', u'f2f_url': u'http://food2fork.com/view/47319', u'source_url': u'http://thepioneerwoman.com/cooking/2008/06/crash-hot-potatoes/', u'recipe_id': u'47319', u'image_url': u'http://static.food2fork.com/CrashHotPotatoes5736.jpg', u'social_rank': 100.0, u'publisher_url': u'http://thepioneerwoman.com'}\n",
      "{u'publisher': u'Two Peas and Their Pod', u'title': u'Stovetop Avocado Mac and Cheese', u'f2f_url': u'http://food2fork.com/view/54384', u'source_url': u'http://www.twopeasandtheirpod.com/stovetop-avocado-mac-and-cheese/', u'recipe_id': u'54384', u'image_url': u'http://static.food2fork.com/avocadomacandcheesedc99.jpg', u'social_rank': 100.0, u'publisher_url': u'http://www.twopeasandtheirpod.com'}\n",
      "{u'publisher': u'Closet Cooking', u'title': u'Buffalo Chicken Grilled Cheese Sandwich', u'f2f_url': u'http://food2fork.com/view/35171', u'source_url': u'http://www.closetcooking.com/2011/08/buffalo-chicken-grilled-cheese-sandwich.html', u'recipe_id': u'35171', u'image_url': u'http://static.food2fork.com/Buffalo2BChicken2BGrilled2BCheese2BSandwich2B5002B4983f2702fe4.jpg', u'social_rank': 100.0, u'publisher_url': u'http://closetcooking.com'}\n",
      "{u'publisher': u'The Pioneer Woman', u'title': u'Cinnamon Rolls', u'f2f_url': u'http://food2fork.com/view/d9a5e8', u'source_url': u'http://thepioneerwoman.com/cooking/2007/06/cinammon_rolls_/', u'recipe_id': u'd9a5e8', u'image_url': u'http://static.food2fork.com/333323997_04bd8d6c53da11.jpg', u'social_rank': 100.0, u'publisher_url': u'http://thepioneerwoman.com'}\n",
      "{u'publisher': u'101 Cookbooks', u'title': u'Best Pizza Dough Ever', u'f2f_url': u'http://food2fork.com/view/47746', u'source_url': u'http://www.101cookbooks.com/archives/001199.html', u'recipe_id': u'47746', u'image_url': u'http://static.food2fork.com/best_pizza_dough_recipe1b20.jpg', u'social_rank': 100.0, u'publisher_url': u'http://www.101cookbooks.com'}\n",
      "{u'publisher': u'101 Cookbooks', u'title': u'Magic Sauce', u'f2f_url': u'http://food2fork.com/view/47899', u'source_url': u'http://www.101cookbooks.com/archives/magic-sauce-recipe.html', u'recipe_id': u'47899', u'image_url': u'http://static.food2fork.com/magic_sauce_recipeece9.jpg', u'social_rank': 100.0, u'publisher_url': u'http://www.101cookbooks.com'}\n",
      "{u'publisher': u'The Pioneer Woman', u'title': u'Spicy Dr. Pepper Shredded Pork', u'f2f_url': u'http://food2fork.com/view/47042', u'source_url': u'http://thepioneerwoman.com/cooking/2011/03/spicy-dr-pepper-shredded-pork/', u'recipe_id': u'47042', u'image_url': u'http://static.food2fork.com/5551711173_dc42f7fc4b_zbd8a.jpg', u'social_rank': 100.0, u'publisher_url': u'http://thepioneerwoman.com'}\n",
      "{u'publisher': u'Whats Gaby Cooking', u'title': u'Parmesan Roasted Potatoes', u'f2f_url': u'http://food2fork.com/view/713134', u'source_url': u'http://whatsgabycooking.com/parmesan-roasted-potatoes/', u'recipe_id': u'713134', u'image_url': u'http://static.food2fork.com/ParmesanRoastedPotatoes11985a.jpg', u'social_rank': 100.0, u'publisher_url': u'http://whatsgabycooking.com'}\n",
      "{u'publisher': u'Closet Cooking', u'title': u'Bacon Wrapped Jalapeno Popper Stuffed Chicken', u'f2f_url': u'http://food2fork.com/view/35120', u'source_url': u'http://www.closetcooking.com/2012/11/bacon-wrapped-jalapeno-popper-stuffed.html', u'recipe_id': u'35120', u'image_url': u'http://static.food2fork.com/Bacon2BWrapped2BJalapeno2BPopper2BStuffed2BChicken2B5002B5909939b0e65.jpg', u'social_rank': 100.0, u'publisher_url': u'http://closetcooking.com'}\n",
      "{u'publisher': u'My Baking Addiction', u'title': u'The Best Chocolate Cake', u'f2f_url': u'http://food2fork.com/view/035865', u'source_url': u'http://www.mybakingaddiction.com/the-best-chocolate-cake-recipe/', u'recipe_id': u'035865', u'image_url': u'http://static.food2fork.com/BlackMagicCakeSlice1of18c68.jpg', u'social_rank': 100.0, u'publisher_url': u'http://www.mybakingaddiction.com'}\n",
      "{u'publisher': u'Closet Cooking', u'title': u'Hot Spinach and Artichoke Dip', u'f2f_url': u'http://food2fork.com/view/35368', u'source_url': u'http://www.closetcooking.com/2008/11/hot-spinach-and-artichoke-dip.html', u'recipe_id': u'35368', u'image_url': u'http://static.food2fork.com/HotSpinachandArtichokeDip5007579cdf5.jpg', u'social_rank': 100.0, u'publisher_url': u'http://closetcooking.com'}\n",
      "{u'publisher': u'Two Peas and Their Pod', u'title': u'Smashed Chickpea & Avocado Salad Sandwich', u'f2f_url': u'http://food2fork.com/view/54400', u'source_url': u'http://www.twopeasandtheirpod.com/smashed-chickpea-avocado-salad-sandwich/', u'recipe_id': u'54400', u'image_url': u'http://static.food2fork.com/smashedchickpeaavocadosaladsandwich29c5b.jpg', u'social_rank': 100.0, u'publisher_url': u'http://www.twopeasandtheirpod.com'}\n",
      "{u'publisher': u'The Pioneer Woman', u'title': u'Restaurant Style Salsa', u'f2f_url': u'http://food2fork.com/view/47166', u'source_url': u'http://thepioneerwoman.com/cooking/2010/01/restaurant-style-salsa/', u'recipe_id': u'47166', u'image_url': u'http://static.food2fork.com/4307514771_c089bbd71017f42.jpg', u'social_rank': 100.0, u'publisher_url': u'http://thepioneerwoman.com'}\n",
      "{u'publisher': u'The Pioneer Woman', u'title': u'The Best Lasagna Ever', u'f2f_url': u'http://food2fork.com/view/8f3e73', u'source_url': u'http://thepioneerwoman.com/cooking/2007/06/the_best_lasagn/', u'recipe_id': u'8f3e73', u'image_url': u'http://static.food2fork.com/387114468_aafd1be3404a2f.jpg', u'social_rank': 100.0, u'publisher_url': u'http://thepioneerwoman.com'}\n",
      "{u'publisher': u'My Baking Addiction', u'title': u'Mac and Cheese with Roasted Chicken, Goat Cheese, and Rosemary', u'f2f_url': u'http://food2fork.com/view/e7fdb2', u'source_url': u'http://www.mybakingaddiction.com/mac-and-cheese-roasted-chicken-and-goat-cheese/', u'recipe_id': u'e7fdb2', u'image_url': u'http://static.food2fork.com/MacandCheese1122b.jpg', u'social_rank': 100.0, u'publisher_url': u'http://www.mybakingaddiction.com'}\n",
      "{u'publisher': u'Closet Cooking', u'title': u'Guinness Chocolate Cheesecake', u'f2f_url': u'http://food2fork.com/view/35354', u'source_url': u'http://www.closetcooking.com/2011/03/guinness-chocolate-cheesecake.html', u'recipe_id': u'35354', u'image_url': u'http://static.food2fork.com/Guinness2BChocolate2BCheesecake2B12B5002af4b6b4.jpg', u'social_rank': 100.0, u'publisher_url': u'http://closetcooking.com'}\n",
      "{u'publisher': u'Simply Recipes', u'title': u'Banana Bread', u'f2f_url': u'http://food2fork.com/view/35760', u'source_url': u'http://www.simplyrecipes.com/recipes/banana_bread/', u'recipe_id': u'35760', u'image_url': u'http://static.food2fork.com/banana_bread300x2000a14c8c5.jpeg', u'social_rank': 100.0, u'publisher_url': u'http://simplyrecipes.com'}\n",
      "{u'publisher': u'All Recipes', u'title': u'The Best Rolled Sugar Cookies', u'f2f_url': u'http://food2fork.com/view/32478', u'source_url': u'http://allrecipes.com/Recipe/The-Best-Rolled-Sugar-Cookies/Detail.aspx', u'recipe_id': u'32478', u'image_url': u'http://static.food2fork.com/9956913c10.jpg', u'social_rank': 100.0, u'publisher_url': u'http://allrecipes.com'}\n",
      "{u'publisher': u'Two Peas and Their Pod', u'title': u'Guacamole Grilled Cheese Sandwich', u'f2f_url': u'http://food2fork.com/view/54427', u'source_url': u'http://www.twopeasandtheirpod.com/guacamole-grilled-cheese-sandwich/', u'recipe_id': u'54427', u'image_url': u'http://static.food2fork.com/GuacamoleGrilledCheese6019.jpg', u'social_rank': 100.0, u'publisher_url': u'http://www.twopeasandtheirpod.com'}\n",
      "{u'publisher': u'Two Peas and Their Pod', u'title': u'Two-Ingredient Banana Peanut Butter Ice Cream', u'f2f_url': u'http://food2fork.com/view/54489', u'source_url': u'http://www.twopeasandtheirpod.com/two-ingredient-banana-peanut-butter-ice-cream/', u'recipe_id': u'54489', u'image_url': u'http://static.food2fork.com/bananapeanutbuttericecream5c16d.jpg', u'social_rank': 100.0, u'publisher_url': u'http://www.twopeasandtheirpod.com'}\n",
      "{u'publisher': u'Simply Recipes', u'title': u'Easy Shepherd&#8217;s Pie', u'f2f_url': u'http://food2fork.com/view/36259', u'source_url': u'http://www.simplyrecipes.com/recipes/easy_shepherds_pie/', u'recipe_id': u'36259', u'image_url': u'http://static.food2fork.com/shepherdspie300x2003d240a98.jpg', u'social_rank': 100.0, u'publisher_url': u'http://simplyrecipes.com'}\n",
      "{u'publisher': u'Closet Cooking', u'title': u'Buffalo Chicken Chowder', u'f2f_url': u'http://food2fork.com/view/35169', u'source_url': u'http://www.closetcooking.com/2011/11/buffalo-chicken-chowder.html', u'recipe_id': u'35169', u'image_url': u'http://static.food2fork.com/Buffalo2BChicken2BChowder2B5002B0075c131caa8.jpg', u'social_rank': 100.0, u'publisher_url': u'http://closetcooking.com'}\n",
      "{u'publisher': u'All Recipes', u'title': u'Best Brownies', u'f2f_url': u'http://food2fork.com/view/3620', u'source_url': u'http://allrecipes.com/Recipe/Best-Brownies/Detail.aspx', u'recipe_id': u'3620', u'image_url': u'http://static.food2fork.com/720553ee26.jpg', u'social_rank': 100.0, u'publisher_url': u'http://allrecipes.com'}\n",
      "{u'publisher': u'All Recipes', u'title': u'Slow Cooker Chicken Tortilla Soup', u'f2f_url': u'http://food2fork.com/view/29159', u'source_url': u'http://allrecipes.com/Recipe/Slow-Cooker-Chicken-Tortilla-Soup/Detail.aspx', u'recipe_id': u'29159', u'image_url': u'http://static.food2fork.com/19321150c4.jpg', u'social_rank': 100.0, u'publisher_url': u'http://allrecipes.com'}\n",
      "{u'publisher': u'All Recipes', u'title': u'Banana Crumb Muffins', u'f2f_url': u'http://food2fork.com/view/2803', u'source_url': u'http://allrecipes.com/Recipe/Banana-Crumb-Muffins/Detail.aspx', u'recipe_id': u'2803', u'image_url': u'http://static.food2fork.com/124030cedd.jpg', u'social_rank': 100.0, u'publisher_url': u'http://allrecipes.com'}\n",
      "{u'publisher': u'All Recipes', u'title': u'Banana Banana Bread', u'f2f_url': u'http://food2fork.com/view/2734', u'source_url': u'http://allrecipes.com/Recipe/Banana-Banana-Bread/Detail.aspx', u'recipe_id': u'2734', u'image_url': u'http://static.food2fork.com/254186ea50.jpg', u'social_rank': 100.0, u'publisher_url': u'http://allrecipes.com'}\n",
      "{u'publisher': u'101 Cookbooks', u'title': u'Nikki', u'f2f_url': u'http://food2fork.com/view/47692', u'source_url': u'http://www.101cookbooks.com/archives/nikkis-healthy-cookies-recipe.html', u'recipe_id': u'47692', u'image_url': u'http://static.food2fork.com/healthy_cookies4ee3.jpg', u'social_rank': 100.0, u'publisher_url': u'http://www.101cookbooks.com'}\n",
      "{u'publisher': u'All Recipes', u'title': u'Zesty Slow Cooker Chicken Barbeque', u'f2f_url': u'http://food2fork.com/view/34889', u'source_url': u'http://allrecipes.com/Recipe/Zesty-Slow-Cooker-Chicken-Barbecue/Detail.aspx', u'recipe_id': u'34889', u'image_url': u'http://static.food2fork.com/4515542dbb.jpg', u'social_rank': 100.0, u'publisher_url': u'http://allrecipes.com'}\n",
      "{u'objectId': u'bLau5PRtqU', u'createdAt': u'2015-08-04T21:54:52.068Z'}\n"
     ]
    }
   ],
   "source": [
    "for recipe in recipe_dict[\"recipes\"]:\n",
    "    print recipe\n",
    "    connection = httplib.HTTPSConnection('api.parse.com', 443)\n",
    "    connection.connect()\n",
    "    connection.request('POST', '/1/classes/Recipes', json.dumps(recipe), {\n",
    "           \"X-Parse-Application-Id\": \"Kn40kJK2MYUqRQPr42OCqofglw3pgYIbIku7r49d\",\n",
    "           \"X-Parse-REST-API-Key\": \"zB7McAhzLZRcafCqQGBeTPS1Ot7jz33D2QeTT8Pq\",\n",
    "           \"Content-Type\": \"application/json\"\n",
    "         })\n",
    "    results = json.loads(connection.getresponse().read())\n",
    "\n",
    "print results"
   ]
  },
  {
   "cell_type": "code",
   "execution_count": null,
   "metadata": {
    "collapsed": true
   },
   "outputs": [],
   "source": []
  }
 ],
 "metadata": {
  "kernelspec": {
   "display_name": "Python 2",
   "language": "python",
   "name": "python2"
  },
  "language_info": {
   "codemirror_mode": {
    "name": "ipython",
    "version": 2
   },
   "file_extension": ".py",
   "mimetype": "text/x-python",
   "name": "python",
   "nbconvert_exporter": "python",
   "pygments_lexer": "ipython2",
   "version": "2.7.9"
  }
 },
 "nbformat": 4,
 "nbformat_minor": 0
}
